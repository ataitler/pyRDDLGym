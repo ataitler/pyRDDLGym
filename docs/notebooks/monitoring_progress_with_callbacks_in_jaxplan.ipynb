{
 "cells": [
  {
   "cell_type": "markdown",
   "id": "a20f4f0a",
   "metadata": {},
   "source": [
    "# Monitoring progress with callbacks in JaxPlan."
   ]
  },
  {
   "cell_type": "markdown",
   "id": "5ca64986",
   "metadata": {},
   "source": [
    "In many applications, it is desirable to call an optimizer iteratively, monitoring its performance in real time and adjusting as needed. In this notebook, we illustrate how to do this with JaxPlan by showing how to monitor and plot the train and test loss curves across iterations."
   ]
  },
  {
   "cell_type": "markdown",
   "id": "93350421",
   "metadata": {},
   "source": [
    "Start by installing the required packages:"
   ]
  },
  {
   "cell_type": "code",
   "execution_count": 1,
   "id": "0b8819fc",
   "metadata": {},
   "outputs": [
    {
     "name": "stdout",
     "output_type": "stream",
     "text": [
      "Note: you may need to restart the kernel to use updated packages.\n",
      "Note: you may need to restart the kernel to use updated packages.\n",
      "Note: you may need to restart the kernel to use updated packages.\n",
      "Note: you may need to restart the kernel to use updated packages.\n"
     ]
    }
   ],
   "source": [
    "%pip install --quiet --upgrade pip\n",
    "%pip install --quiet git+https://github.com/pyrddlgym-project/pyRDDLGym.git\n",
    "%pip install --quiet git+https://github.com/pyrddlgym-project/rddlrepository.git\n",
    "%pip install --quiet git+https://github.com/pyrddlgym-project/pyRDDLGym-jax.git"
   ]
  },
  {
   "cell_type": "markdown",
   "id": "ec549c49",
   "metadata": {},
   "source": [
    "Import the required packages:"
   ]
  },
  {
   "cell_type": "code",
   "execution_count": 2,
   "id": "56fbefc2",
   "metadata": {},
   "outputs": [],
   "source": [
    "import warnings\n",
    "warnings.filterwarnings(\"ignore\", category=UserWarning)\n",
    "import matplotlib.pyplot as plt\n",
    "\n",
    "import pyRDDLGym\n",
    "from pyRDDLGym_jax.core.planner import JaxStraightLinePlan, JaxBackpropPlanner, JaxOfflineController, load_config_from_string"
   ]
  },
  {
   "cell_type": "markdown",
   "id": "ef543b96",
   "metadata": {},
   "source": [
    "We will use the Quadcopter control problem as an example here:"
   ]
  },
  {
   "cell_type": "code",
   "execution_count": 3,
   "id": "572302a3",
   "metadata": {},
   "outputs": [],
   "source": [
    "env = pyRDDLGym.make('Quadcopter', '0', vectorized=True)"
   ]
  },
  {
   "cell_type": "markdown",
   "id": "75b4290d",
   "metadata": {},
   "source": [
    "Generate a configuration file to load desired hyper-parameters for the planner as usual, and instantiate the planner instance:"
   ]
  },
  {
   "cell_type": "code",
   "execution_count": 4,
   "id": "f02c6799",
   "metadata": {},
   "outputs": [],
   "source": [
    "config = \"\"\"\n",
    "[Model]\n",
    "[Optimizer]\n",
    "method='JaxStraightLinePlan'\n",
    "optimizer_kwargs={'learning_rate': 0.1}\n",
    "batch_size_train=1\n",
    "batch_size_test=1\n",
    "[Training]\n",
    "\"\"\"\n",
    "planner_args, _, train_args = load_config_from_string(config)\n",
    "planner = JaxBackpropPlanner(rddl=env.model, **planner_args)"
   ]
  },
  {
   "cell_type": "markdown",
   "id": "b2364737",
   "metadata": {},
   "source": [
    "In the current example, we will not instantiate a controller agent, because we will be instructing the planner to optimize ourselves. To do this, we note the ``optimize_generator()`` function in the planner API, which builds a generator that we can iterate through to unravel each step of the optimization sequentially: "
   ]
  },
  {
   "cell_type": "code",
   "execution_count": 5,
   "id": "88f28250",
   "metadata": {},
   "outputs": [],
   "source": [
    "sequence_of_steps = planner.optimize_generator(epochs=8000, print_summary=False, **train_args)"
   ]
  },
  {
   "cell_type": "markdown",
   "id": "c861c43d",
   "metadata": {},
   "source": [
    "This does not actually begin optimization, because we have not iterated on the resulting iterator. If we do this and inspect the result it yields, we will get a dictionary of information summarizing the iteration. Let's do this now for one iteration and see what kind of information we can extract:"
   ]
  },
  {
   "cell_type": "code",
   "execution_count": 6,
   "id": "8cd06294",
   "metadata": {},
   "outputs": [
    {
     "name": "stderr",
     "output_type": "stream",
     "text": [
      "      0 it /  -19874.031250 train /  -19863.072266 test /  -19863.072266 best / 0 status:   7%| | 7/100 [00:08<01:58,  "
     ]
    },
    {
     "data": {
      "text/plain": [
       "dict_keys(['status', 'iteration', 'train_return', 'test_return', 'best_return', 'params', 'best_params', 'last_iteration_improved', 'grad', 'best_grad', 'noise_sigma', 'updates', 'elapsed_time', 'key', 'error', 'fluents', 'invariant', 'precondition', 'reward', 'termination'])"
      ]
     },
     "execution_count": 6,
     "metadata": {},
     "output_type": "execute_result"
    }
   ],
   "source": [
    "next(sequence_of_steps).keys()"
   ]
  },
  {
   "cell_type": "markdown",
   "id": "c9db8545",
   "metadata": {},
   "source": [
    "As you can see, we can extract a lot of infomation about the optimization, including convergence status, return information, parameters of the plan, gradient information, and even rollouts of the fluents as JAX arrays."
   ]
  },
  {
   "cell_type": "markdown",
   "id": "f27c7869",
   "metadata": {},
   "source": [
    "We are interested in monitoring the ``train_return`` and ``test_return`` of each iteration, so let's exhaust the iterator and cache the values at each iteration:"
   ]
  },
  {
   "cell_type": "code",
   "execution_count": 7,
   "id": "2bd3d8c6",
   "metadata": {},
   "outputs": [
    {
     "name": "stderr",
     "output_type": "stream",
     "text": [
      "   7999 it /   -5506.236328 train /   -5507.595703 test /   -5507.595703 best / 0 status: : 7999it [00:24, 326.96it/s] \n"
     ]
    }
   ],
   "source": [
    "train_returns, test_returns = [], []\n",
    "for iteration_result in sequence_of_steps:\n",
    "    train_returns.append(float(iteration_result['train_return'].item()))\n",
    "    test_returns.append(float(iteration_result['test_return'].item()))"
   ]
  },
  {
   "cell_type": "markdown",
   "id": "71c5b5c4",
   "metadata": {},
   "source": [
    "Finally, let's plot these time series to assess convergence of the planner:"
   ]
  },
  {
   "cell_type": "code",
   "execution_count": 8,
   "id": "ffb85a3f",
   "metadata": {},
   "outputs": [
    {
     "data": {
      "image/png": "[encoded data removed]",
      "text/plain": [
       "<Figure size 432x288 with 1 Axes>"
      ]
     },
     "metadata": {
      "needs_background": "light"
     },
     "output_type": "display_data"
    }
   ],
   "source": [
    "%matplotlib inline\n",
    "plt.plot(range(len(train_returns)), train_returns, label='train')\n",
    "plt.plot(range(len(test_returns)), test_returns, label='test')\n",
    "plt.legend()\n",
    "plt.show()"
   ]
  },
  {
   "cell_type": "markdown",
   "id": "28eeb31b",
   "metadata": {},
   "source": [
    "As you can see, the planner is converging to an optimal solution."
   ]
  }
 ],
 "metadata": {
  "kernelspec": {
   "display_name": "Python 3 (ipykernel)",
   "language": "python",
   "name": "python3"
  },
  "language_info": {
   "codemirror_mode": {
    "name": "ipython",
    "version": 3
   },
   "file_extension": ".py",
   "mimetype": "text/x-python",
   "name": "python",
   "nbconvert_exporter": "python",
   "pygments_lexer": "ipython3",
   "version": "3.9.12"
  },
  "widgets": {
   "application/vnd.jupyter.widget-state+json": {
    "state": {},
    "version_major": 2,
    "version_minor": 0
   }
  }
 },
 "nbformat": 4,
 "nbformat_minor": 5
}
