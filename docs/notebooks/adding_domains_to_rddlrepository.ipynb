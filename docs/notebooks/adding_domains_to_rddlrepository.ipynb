{
 "cells": [
  {
   "cell_type": "markdown",
   "id": "b7536351",
   "metadata": {},
   "source": [
    "# Adding domains to the rddlrepository."
   ]
  },
  {
   "cell_type": "markdown",
   "id": "d0bd1322",
   "metadata": {},
   "source": [
    "This follow-up example illustrates how to add a new context, domain and instance to the rddlrepository for later use."
   ]
  },
  {
   "cell_type": "markdown",
   "id": "30e7bfac",
   "metadata": {},
   "source": [
    "First install and import the required packages:"
   ]
  },
  {
   "cell_type": "code",
   "execution_count": 12,
   "id": "1237386d",
   "metadata": {},
   "outputs": [
    {
     "name": "stdout",
     "output_type": "stream",
     "text": [
      "Note: you may need to restart the kernel to use updated packages.\n",
      "Note: you may need to restart the kernel to use updated packages.\n",
      "Note: you may need to restart the kernel to use updated packages.\n"
     ]
    }
   ],
   "source": [
    "%pip install --quiet --upgrade pip\n",
    "%pip install --quiet git+https://github.com/pyrddlgym-project/pyRDDLGym.git\n",
    "%pip install --quiet git+https://github.com/pyrddlgym-project/rddlrepository.git"
   ]
  },
  {
   "cell_type": "markdown",
   "id": "f5cb0c7f",
   "metadata": {},
   "source": [
    "Import the required packages:"
   ]
  },
  {
   "cell_type": "code",
   "execution_count": 24,
   "id": "a751f140",
   "metadata": {},
   "outputs": [],
   "source": [
    "import pyRDDLGym\n",
    "from pyRDDLGym.core.policy import RandomAgent\n",
    "from rddlrepository.core.manager import RDDLRepoManager"
   ]
  },
  {
   "cell_type": "markdown",
   "id": "84ed9ec6",
   "metadata": {},
   "source": [
    "Let's begin by adding a new context to the rddlrepository. We have to make sure it does not already exist:"
   ]
  },
  {
   "cell_type": "code",
   "execution_count": 14,
   "id": "accae606",
   "metadata": {},
   "outputs": [
    {
     "name": "stdout",
     "output_type": "stream",
     "text": [
      "Context <mycontext> was successfully registered in rddlrepository.\n"
     ]
    }
   ],
   "source": [
    "manager = RDDLRepoManager(rebuild=True)\n",
    "manager.register_context(\"mycontext\")"
   ]
  },
  {
   "cell_type": "markdown",
   "id": "9456d046",
   "metadata": {},
   "source": [
    "Next, we will create our RDDL domain specification. For illustration we will consider a simple example:"
   ]
  },
  {
   "cell_type": "code",
   "execution_count": 15,
   "id": "d974e98f",
   "metadata": {},
   "outputs": [],
   "source": [
    "domain_text = \"\"\"\n",
    "domain simple_domain {\n",
    "\n",
    "    pvariables {\n",
    "        state : { state-fluent, int, default = 0 };\n",
    "        action : { action-fluent, int, default = 0 };\n",
    "    };\n",
    "    \n",
    "    cpfs {\n",
    "        state' = state + action;\n",
    "    };\n",
    "    \n",
    "    reward = pow[state' - 4, 2];\n",
    "    \n",
    "    action-preconditions {\n",
    "        action >= -10 ^ action <= 10;\n",
    "    };\n",
    "}\n",
    "\"\"\""
   ]
  },
  {
   "cell_type": "markdown",
   "id": "3b759eaa",
   "metadata": {},
   "source": [
    "Let's register the domain in our newly-registered context, creating a description and assigning the default (graphical) visualizer:"
   ]
  },
  {
   "cell_type": "code",
   "execution_count": 16,
   "id": "0bf0a398",
   "metadata": {},
   "outputs": [
    {
     "name": "stdout",
     "output_type": "stream",
     "text": [
      "Domain <SimpleDomain> was successfully registered in rddlrepository with context <mycontext>.\n"
     ]
    }
   ],
   "source": [
    "manager.register_domain(\"SimpleDomain\", \"mycontext\", domain_text, desc=\"a very simple additive domain\", viz=None)"
   ]
  },
  {
   "cell_type": "markdown",
   "id": "1799f195",
   "metadata": {},
   "source": [
    "Finally let's create at least one instance file for this domain:"
   ]
  },
  {
   "cell_type": "code",
   "execution_count": 17,
   "id": "7d741566",
   "metadata": {},
   "outputs": [],
   "source": [
    "instance_text = \"\"\"\n",
    "non-fluents nf_simple {\n",
    "    domain = simple_domain;\n",
    "}\n",
    "\n",
    "instance simple_inst {\n",
    "    domain = simple_domain;\n",
    "    non-fluents = nf_simple;\n",
    "    max-nondef-actions = pos-inf;\n",
    "    horizon = 5;\n",
    "    discount = 1.0;\n",
    "}\n",
    "\"\"\""
   ]
  },
  {
   "cell_type": "markdown",
   "id": "6a41e038",
   "metadata": {},
   "source": [
    "We will register the new instance as number 1 for the newly-registered domain:"
   ]
  },
  {
   "cell_type": "code",
   "execution_count": 20,
   "id": "df76bd8b",
   "metadata": {},
   "outputs": [
    {
     "ename": "RDDLRepoInstanceDuplicationError",
     "evalue": "Instance <1> already exists in domain <SimpleDomain_mycontext>.",
     "output_type": "error",
     "traceback": [
      "\u001b[1;31m---------------------------------------------------------------------------\u001b[0m",
      "\u001b[1;31mRDDLRepoInstanceDuplicationError\u001b[0m          Traceback (most recent call last)",
      "Input \u001b[1;32mIn [20]\u001b[0m, in \u001b[0;36m<cell line: 2>\u001b[1;34m()\u001b[0m\n\u001b[0;32m      1\u001b[0m problem_info \u001b[38;5;241m=\u001b[39m manager\u001b[38;5;241m.\u001b[39mget_problem(\u001b[38;5;124m\"\u001b[39m\u001b[38;5;124mSimpleDomain_mycontext\u001b[39m\u001b[38;5;124m\"\u001b[39m)\n\u001b[1;32m----> 2\u001b[0m \u001b[43mproblem_info\u001b[49m\u001b[38;5;241;43m.\u001b[39;49m\u001b[43mregister_instance\u001b[49m\u001b[43m(\u001b[49m\u001b[38;5;124;43m\"\u001b[39;49m\u001b[38;5;124;43m1\u001b[39;49m\u001b[38;5;124;43m\"\u001b[39;49m\u001b[43m,\u001b[49m\u001b[43m \u001b[49m\u001b[43minstance_text\u001b[49m\u001b[43m)\u001b[49m\n",
      "File \u001b[1;32mC:\\Python\\lib\\site-packages\\rddlrepository\\core\\info.py:79\u001b[0m, in \u001b[0;36mProblemInfo.register_instance\u001b[1;34m(self, num, rddl)\u001b[0m\n\u001b[0;32m     77\u001b[0m path \u001b[38;5;241m=\u001b[39m os\u001b[38;5;241m.\u001b[39mpath\u001b[38;5;241m.\u001b[39mjoin(\u001b[38;5;28mself\u001b[39m\u001b[38;5;241m.\u001b[39mloc, \u001b[38;5;124mf\u001b[39m\u001b[38;5;124m'\u001b[39m\u001b[38;5;124minstance\u001b[39m\u001b[38;5;132;01m{\u001b[39;00mnum\u001b[38;5;132;01m}\u001b[39;00m\u001b[38;5;124m.rddl\u001b[39m\u001b[38;5;124m'\u001b[39m)\n\u001b[0;32m     78\u001b[0m \u001b[38;5;28;01mif\u001b[39;00m os\u001b[38;5;241m.\u001b[39mpath\u001b[38;5;241m.\u001b[39mexists(path):\n\u001b[1;32m---> 79\u001b[0m     \u001b[38;5;28;01mraise\u001b[39;00m RDDLRepoInstanceDuplicationError(\n\u001b[0;32m     80\u001b[0m         \u001b[38;5;124mf\u001b[39m\u001b[38;5;124m'\u001b[39m\u001b[38;5;124mInstance <\u001b[39m\u001b[38;5;132;01m{\u001b[39;00mnum\u001b[38;5;132;01m}\u001b[39;00m\u001b[38;5;124m> already exists in domain <\u001b[39m\u001b[38;5;132;01m{\u001b[39;00m\u001b[38;5;28mself\u001b[39m\u001b[38;5;241m.\u001b[39mname\u001b[38;5;132;01m}\u001b[39;00m\u001b[38;5;124m>.\u001b[39m\u001b[38;5;124m'\u001b[39m)\n\u001b[0;32m     82\u001b[0m \u001b[38;5;28;01mwith\u001b[39;00m \u001b[38;5;28mopen\u001b[39m(path, \u001b[38;5;124m'\u001b[39m\u001b[38;5;124mw\u001b[39m\u001b[38;5;124m'\u001b[39m) \u001b[38;5;28;01mas\u001b[39;00m instance_file:\n\u001b[0;32m     83\u001b[0m     instance_file\u001b[38;5;241m.\u001b[39mwrite(rddl)               \n",
      "\u001b[1;31mRDDLRepoInstanceDuplicationError\u001b[0m: Instance <1> already exists in domain <SimpleDomain_mycontext>."
     ]
    }
   ],
   "source": [
    "problem_info = manager.get_problem(\"SimpleDomain_mycontext\")\n",
    "problem_info.register_instance(\"1\", instance_text)"
   ]
  },
  {
   "cell_type": "markdown",
   "id": "8c97494d",
   "metadata": {},
   "source": [
    "The moment of truth: let's check that everything works fine by loading the domain in pyRDDLGym:"
   ]
  },
  {
   "cell_type": "code",
   "execution_count": 23,
   "id": "6db77a4d",
   "metadata": {},
   "outputs": [
    {
     "name": "stdout",
     "output_type": "stream",
     "text": [
      "initial state = \n",
      "     state = 0 \n",
      "------------------------------------------------------------------------------------------------------------------------\n",
      "step   = 0\n",
      "action = \n",
      "     action = -8 \n",
      "state  = \n",
      "     state = -8 \n",
      "reward = 144.0\n",
      "done   = False\n",
      "------------------------------------------------------------------------------------------------------------------------\n",
      "step   = 1\n",
      "action = \n",
      "     action = -10 \n",
      "state  = \n",
      "     state = -18 \n",
      "reward = 484.0\n",
      "done   = False\n",
      "------------------------------------------------------------------------------------------------------------------------\n",
      "step   = 2\n",
      "action = \n",
      "     action = -5 \n",
      "state  = \n",
      "     state = -23 \n",
      "reward = 729.0\n",
      "done   = False\n",
      "------------------------------------------------------------------------------------------------------------------------\n",
      "step   = 3\n",
      "action = \n",
      "     action = -3 \n",
      "state  = \n",
      "     state = -26 \n",
      "reward = 900.0\n",
      "done   = False\n",
      "------------------------------------------------------------------------------------------------------------------------\n",
      "step   = 4\n",
      "action = \n",
      "     action = -1 \n",
      "state  = \n",
      "     state = -27 \n",
      "reward = 961.0\n",
      "done   = True\n",
      "\n",
      "episode 1 ended with return 3218.0\n",
      "========================================================================================================================\n"
     ]
    },
    {
     "data": {
      "text/plain": [
       "{'mean': 3218.0, 'median': 3218.0, 'min': 3218.0, 'max': 3218.0, 'std': 0.0}"
      ]
     },
     "execution_count": 23,
     "metadata": {},
     "output_type": "execute_result"
    }
   ],
   "source": [
    "RDDLRepoManager(rebuild=True)\n",
    "env = pyRDDLGym.make(\"SimpleDomain_mycontext\", \"1\")\n",
    "agent = RandomAgent(action_space=env.action_space, num_actions=env.max_allowed_actions)\n",
    "agent.evaluate(env, episodes=1, verbose=True)"
   ]
  },
  {
   "cell_type": "code",
   "execution_count": null,
   "id": "56847927",
   "metadata": {},
   "outputs": [],
   "source": []
  }
 ],
 "metadata": {
  "kernelspec": {
   "display_name": "Python 3 (ipykernel)",
   "language": "python",
   "name": "python3"
  },
  "language_info": {
   "codemirror_mode": {
    "name": "ipython",
    "version": 3
   },
   "file_extension": ".py",
   "mimetype": "text/x-python",
   "name": "python",
   "nbconvert_exporter": "python",
   "pygments_lexer": "ipython3",
   "version": "3.9.12"
  }
 },
 "nbformat": 4,
 "nbformat_minor": 5
}
