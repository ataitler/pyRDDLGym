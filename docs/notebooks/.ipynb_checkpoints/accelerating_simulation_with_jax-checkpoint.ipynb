{
 "cells": [
  {
   "cell_type": "markdown",
   "id": "4becd503",
   "metadata": {},
   "source": [
    "# Accelerating simulation with JAX."
   ]
  },
  {
   "cell_type": "markdown",
   "id": "a606ce99",
   "metadata": {},
   "source": [
    "In this example, we show how to compile and simulate a pyRDDLGym environment using the JAX backend."
   ]
  },
  {
   "cell_type": "code",
   "execution_count": 1,
   "id": "cef32f20",
   "metadata": {},
   "outputs": [
    {
     "name": "stdout",
     "output_type": "stream",
     "text": [
      "Note: you may need to restart the kernel to use updated packages.\n",
      "Note: you may need to restart the kernel to use updated packages.\n"
     ]
    }
   ],
   "source": [
    "%pip install --quiet --upgrade pip\n",
    "%pip install --quiet pyRDDLGym rddlrepository pyRDDLGym-jax"
   ]
  },
  {
   "cell_type": "markdown",
   "id": "f97cf696",
   "metadata": {},
   "source": [
    "Import the required packages:"
   ]
  },
  {
   "cell_type": "code",
   "execution_count": 2,
   "id": "ebfd2c65",
   "metadata": {},
   "outputs": [],
   "source": [
    "import warnings\n",
    "warnings.filterwarnings(\"ignore\", category=UserWarning)\n",
    "import time\n",
    "import matplotlib.pyplot as plt\n",
    "import numpy as np\n",
    "\n",
    "import pyRDDLGym\n",
    "from pyRDDLGym.core.policy import RandomAgent\n",
    "from pyRDDLGym_jax.core.simulator import JaxRDDLSimulator"
   ]
  },
  {
   "cell_type": "markdown",
   "id": "fb41626e",
   "metadata": {},
   "source": [
    "## Does the JAX backend produce the same simulation result as the pyRDDLGym simulator?"
   ]
  },
  {
   "cell_type": "markdown",
   "id": "1c8e0627",
   "metadata": {},
   "source": [
    "We demonstrate that JAX produces the same outputs as the regular pyRDDLGym simulation backend. Let's make two identical copies of the same environment deterministic environment:"
   ]
  },
  {
   "cell_type": "code",
   "execution_count": 3,
   "id": "572f58b2",
   "metadata": {},
   "outputs": [],
   "source": [
    "env = pyRDDLGym.make('RaceCar_ippc2023', '3', backend=JaxRDDLSimulator)\n",
    "base_env = pyRDDLGym.make('RaceCar_ippc2023', '3')"
   ]
  },
  {
   "cell_type": "markdown",
   "id": "98278283",
   "metadata": {},
   "source": [
    "Let's generate actions using the random agent:"
   ]
  },
  {
   "cell_type": "code",
   "execution_count": 4,
   "id": "38155fa9",
   "metadata": {},
   "outputs": [],
   "source": [
    "agent = RandomAgent(action_space=env.action_space, num_actions=env.max_allowed_actions)"
   ]
  },
  {
   "cell_type": "markdown",
   "id": "a81dddbc",
   "metadata": {},
   "source": [
    "Let's simulate from both copies of the environment with the same random seed and compare the trajectories:"
   ]
  },
  {
   "cell_type": "code",
   "execution_count": 5,
   "id": "81a976a8",
   "metadata": {},
   "outputs": [
    {
     "name": "stdout",
     "output_type": "stream",
     "text": [
      "the maximum difference in the state was 1.5356283866729825e-07\n"
     ]
    }
   ],
   "source": [
    "state, _ = env.reset()\n",
    "base_state, _ = base_env.reset()\n",
    "max_diff = 0.0\n",
    "for step in range(env.horizon):\n",
    "    max_diff = max(max_diff, max(abs(state[key] - base_state[key]) for key in state))\n",
    "    action = agent.sample_action(state)\n",
    "    state, reward, *_ = env.step(action)\n",
    "    base_state, base_reward, *_ = base_env.step(action)\n",
    "print(f'the maximum difference in the state was {max_diff}')"
   ]
  },
  {
   "cell_type": "markdown",
   "id": "bef99748",
   "metadata": {},
   "source": [
    "Therefore, both backends yield very similar results, with the difference due to the way in which JAX handles floating point precision."
   ]
  },
  {
   "cell_type": "markdown",
   "id": "79686806",
   "metadata": {},
   "source": [
    "## Does the JAX backend run faster?"
   ]
  },
  {
   "cell_type": "markdown",
   "id": "13cdba16",
   "metadata": {},
   "source": [
    "Finally, let's run all 5 instances and time how long it takes to simulate using pyRDDLGym vs the JAX backend:"
   ]
  },
  {
   "cell_type": "code",
   "execution_count": 6,
   "id": "036452ae",
   "metadata": {},
   "outputs": [],
   "source": [
    "times, base_times = [], []\n",
    "for instance in range(1, 6):\n",
    "    env = pyRDDLGym.make('RaceCar_ippc2023', str(instance), backend=JaxRDDLSimulator)\n",
    "    start = time.time()\n",
    "    agent.evaluate(env, episodes=50, render=False)\n",
    "    times.append(time.time() - start)\n",
    "    \n",
    "    base_env = pyRDDLGym.make('RaceCar_ippc2023', str(instance))\n",
    "    base_start = time.time()\n",
    "    agent.evaluate(base_env, episodes=50, render=False)\n",
    "    base_times.append(time.time() - base_start)"
   ]
  },
  {
   "cell_type": "markdown",
   "id": "0b6af41b",
   "metadata": {},
   "source": [
    "Let's plot this to see the trends more clearly:"
   ]
  },
  {
   "cell_type": "code",
   "execution_count": 7,
   "id": "08b164a7",
   "metadata": {
    "scrolled": true
   },
   "outputs": [
    {
     "data": {
      "image/png": "[encoded data removed]",
      "text/plain": [
       "<Figure size 432x288 with 1 Axes>"
      ]
     },
     "metadata": {
      "needs_background": "light"
     },
     "output_type": "display_data"
    }
   ],
   "source": [
    "%matplotlib inline\n",
    "plt.bar(np.arange(1, 6) - 0.2, times, 0.4, label = 'JAX') \n",
    "plt.bar(np.arange(1, 6) + 0.2, base_times, 0.4, label = 'numpy') \n",
    "plt.legend() \n",
    "plt.show() "
   ]
  },
  {
   "cell_type": "markdown",
   "id": "0de225f8",
   "metadata": {},
   "source": [
    "Therefore, JAX can simulate faster than the default simulation backend."
   ]
  }
 ],
 "metadata": {
  "kernelspec": {
   "display_name": "Python 3 (ipykernel)",
   "language": "python",
   "name": "python3"
  },
  "language_info": {
   "codemirror_mode": {
    "name": "ipython",
    "version": 3
   },
   "file_extension": ".py",
   "mimetype": "text/x-python",
   "name": "python",
   "nbconvert_exporter": "python",
   "pygments_lexer": "ipython3",
   "version": "3.9.12"
  },
  "widgets": {
   "application/vnd.jupyter.widget-state+json": {
    "state": {},
    "version_major": 2,
    "version_minor": 0
   }
  }
 },
 "nbformat": 4,
 "nbformat_minor": 5
}
