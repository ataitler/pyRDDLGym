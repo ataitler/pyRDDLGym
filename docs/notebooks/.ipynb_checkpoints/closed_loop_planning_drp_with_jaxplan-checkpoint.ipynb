{
 "cells": [
  {
   "cell_type": "markdown",
   "id": "d178412c",
   "metadata": {},
   "source": [
    "# Closed-loop planning in CartPole with JaxPlan."
   ]
  },
  {
   "cell_type": "markdown",
   "id": "ac2cd736",
   "metadata": {},
   "source": [
    "This rudimentary example compares the performance of a closed-loop and open-loop controller in JaxPlan on a stochastic domain. The closed loop controller learns a policy network that takes the state of the system as input, and produces an action-fluent as output."
   ]
  },
  {
   "cell_type": "code",
   "execution_count": 1,
   "id": "f10e7db1",
   "metadata": {},
   "outputs": [
    {
     "name": "stdout",
     "output_type": "stream",
     "text": [
      "Note: you may need to restart the kernel to use updated packages.\n",
      "Note: you may need to restart the kernel to use updated packages.\n",
      "Note: you may need to restart the kernel to use updated packages.\n",
      "Note: you may need to restart the kernel to use updated packages.\n"
     ]
    }
   ],
   "source": [
    "%pip install --quiet --upgrade pip\n",
    "%pip install --quiet git+https://github.com/pyrddlgym-project/pyRDDLGym.git\n",
    "%pip install --quiet git+https://github.com/pyrddlgym-project/rddlrepository.git\n",
    "%pip install --quiet git+https://github.com/pyrddlgym-project/pyRDDLGym-jax.git"
   ]
  },
  {
   "cell_type": "markdown",
   "id": "75229c6a",
   "metadata": {},
   "source": [
    "Import the required packages:"
   ]
  },
  {
   "cell_type": "code",
   "execution_count": 2,
   "id": "1199a7aa",
   "metadata": {},
   "outputs": [],
   "source": [
    "import warnings\n",
    "warnings.filterwarnings(\"ignore\", category=UserWarning)\n",
    "import matplotlib.pyplot as plt\n",
    "import seaborn as sns\n",
    "\n",
    "import pyRDDLGym\n",
    "from pyRDDLGym.core.visualizer.movie import MovieGenerator\n",
    "from pyRDDLGym_jax.core.planner import JaxStraightLinePlan, JaxDeepReactivePolicy, JaxBackpropPlanner, JaxOfflineController, load_config_from_string"
   ]
  },
  {
   "cell_type": "markdown",
   "id": "a8d74b3b",
   "metadata": {},
   "source": [
    "We will optimize the stochastic Wildfire problem from IPPC 2014. Note again the use of the ``vectorized`` option:"
   ]
  },
  {
   "cell_type": "code",
   "execution_count": 3,
   "id": "9209582d",
   "metadata": {},
   "outputs": [],
   "source": [
    "env = pyRDDLGym.make('Wildfire_MDP_ippc2014', '1', vectorized=True)"
   ]
  },
  {
   "cell_type": "markdown",
   "id": "a51ff786",
   "metadata": {},
   "source": [
    "Let's generate a baseline using the straightline planner, and see if we can improve upon it:"
   ]
  },
  {
   "cell_type": "code",
   "execution_count": 4,
   "id": "68209796",
   "metadata": {},
   "outputs": [
    {
     "name": "stderr",
     "output_type": "stream",
     "text": [
      "   1383 it /    -775.944458 train /    -713.265625 test /    -492.359375 best / 2 status: : 1383it [00:14, 94.07it/s]  \n"
     ]
    }
   ],
   "source": [
    "config = \"\"\"\n",
    "[Model]\n",
    "logic_kwargs={'weight': 100}\n",
    "[Optimizer]\n",
    "method='JaxStraightLinePlan'\n",
    "optimizer_kwargs={'learning_rate': 0.02}\n",
    "[Training]\n",
    "key=42\n",
    "policy_hyperparams={'cut-out': 20.0, 'put-out': 20.0}\n",
    "\"\"\"\n",
    "planner_args, _, train_args = load_config_from_string(config)\n",
    "planner = JaxBackpropPlanner(rddl=env.model, **planner_args)\n",
    "agent = JaxOfflineController(planner, print_summary=False, train_seconds=15, **train_args)\n",
    "slp_returns = [agent.evaluate(env, episodes=1)['mean'] for _ in range(100)]"
   ]
  },
  {
   "cell_type": "markdown",
   "id": "771e9d89",
   "metadata": {},
   "source": [
    "Let's now generate the policy network. Note the slight difference in the config file arguments:"
   ]
  },
  {
   "cell_type": "code",
   "execution_count": 5,
   "id": "a01fe3b3",
   "metadata": {},
   "outputs": [
    {
     "name": "stderr",
     "output_type": "stream",
     "text": [
      "    538 it /    -575.943115 train /    -610.906250 test /    -239.953125 best / 0 status: : 538it [00:14, 37.82it/s]   \n"
     ]
    }
   ],
   "source": [
    "config = \"\"\"\n",
    "[Model]\n",
    "logic_kwargs={'weight': 100}\n",
    "[Optimizer]\n",
    "method='JaxDeepReactivePolicy'\n",
    "method_kwargs={'topology': [128, 128]}\n",
    "optimizer_kwargs={'learning_rate': 0.002}\n",
    "[Training]\n",
    "key=42\n",
    "\"\"\"\n",
    "planner_args, _, train_args = load_config_from_string(config)\n",
    "planner = JaxBackpropPlanner(rddl=env.model, **planner_args)\n",
    "agent = JaxOfflineController(planner, print_summary=False, train_seconds=15, **train_args)\n",
    "drp_returns = [agent.evaluate(env, episodes=1)['mean'] for _ in range(100)]"
   ]
  },
  {
   "cell_type": "markdown",
   "id": "182f7f67",
   "metadata": {},
   "source": [
    "Finally, let's plot two overlapping histograms comparing the distribution of returns for the two plans:"
   ]
  },
  {
   "cell_type": "code",
   "execution_count": 10,
   "id": "85dee5da",
   "metadata": {},
   "outputs": [
    {
     "data": {
      "image/png": "[encoded data removed]",
      "text/plain": [
       "<Figure size 432x288 with 1 Axes>"
      ]
     },
     "metadata": {
      "needs_background": "light"
     },
     "output_type": "display_data"
    }
   ],
   "source": [
    "%matplotlib inline\n",
    "ax = sns.violinplot(data=[slp_returns, drp_returns], orient='h')\n",
    "ax.set_yticklabels(['SLP', 'DRP'])\n",
    "plt.show()"
   ]
  },
  {
   "cell_type": "markdown",
   "id": "c46fc836",
   "metadata": {},
   "source": [
    "As you can see, the reactive policy network has a lower spread in return, and has a much higher probability of generating the optimal return of zero than the straight line planner."
   ]
  },
  {
   "cell_type": "code",
   "execution_count": null,
   "id": "01e59212",
   "metadata": {},
   "outputs": [],
   "source": []
  }
 ],
 "metadata": {
  "kernelspec": {
   "display_name": "Python 3 (ipykernel)",
   "language": "python",
   "name": "python3"
  },
  "language_info": {
   "codemirror_mode": {
    "name": "ipython",
    "version": 3
   },
   "file_extension": ".py",
   "mimetype": "text/x-python",
   "name": "python",
   "nbconvert_exporter": "python",
   "pygments_lexer": "ipython3",
   "version": "3.9.12"
  },
  "widgets": {
   "application/vnd.jupyter.widget-state+json": {
    "state": {},
    "version_major": 2,
    "version_minor": 0
   }
  }
 },
 "nbformat": 4,
 "nbformat_minor": 5
}
