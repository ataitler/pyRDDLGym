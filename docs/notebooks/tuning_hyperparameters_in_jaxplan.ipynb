{
 "cells": [
  {
   "cell_type": "markdown",
   "id": "8e0ced7e",
   "metadata": {},
   "source": [
    "# Tuning policy hyper-parameters in JaxPlan"
   ]
  },
  {
   "cell_type": "markdown",
   "id": "a608bd04",
   "metadata": {},
   "source": [
    "In this advanced notebook, we illustrate how to tune hyper-parameters of the policy and planner efficiently using Bayesian optimization, such as the topology of the policy network, the learning rate, and the model relaxations."
   ]
  },
  {
   "cell_type": "markdown",
   "id": "2677a087",
   "metadata": {},
   "source": [
    "Start by installing the required packages. Notice we use the ``extra`` argument to install the required ``bayesian-optimization`` package:"
   ]
  },
  {
   "cell_type": "code",
   "execution_count": 1,
   "id": "f05a3fd1",
   "metadata": {},
   "outputs": [
    {
     "name": "stdout",
     "output_type": "stream",
     "text": [
      "Note: you may need to restart the kernel to use updated packages.\n",
      "Note: you may need to restart the kernel to use updated packages.\n"
     ]
    }
   ],
   "source": [
    "%pip install --quiet --upgrade pip\n",
    "%pip install --quiet pandas pyRDDLGym rddlrepository pyRDDLGym-jax[extra]"
   ]
  },
  {
   "cell_type": "markdown",
   "id": "81734ce5",
   "metadata": {},
   "source": [
    "Import the required packages:"
   ]
  },
  {
   "cell_type": "code",
   "execution_count": 2,
   "id": "cddc8589",
   "metadata": {},
   "outputs": [],
   "source": [
    "import pandas as pd\n",
    "import jax\n",
    "from IPython.utils import io\n",
    "import matplotlib.pyplot as plt\n",
    "\n",
    "import pyRDDLGym\n",
    "from pyRDDLGym_jax.core.planner import JaxDeepReactivePolicy, JaxBackpropPlanner, JaxOfflineController, load_config_from_string\n",
    "from pyRDDLGym_jax.core.tuning import JaxParameterTuningDRP"
   ]
  },
  {
   "cell_type": "markdown",
   "id": "c2b403a0",
   "metadata": {},
   "source": [
    "We will use the SysAdmin problem from the 2011 IPPC as our example:"
   ]
  },
  {
   "cell_type": "code",
   "execution_count": 3,
   "id": "fdec739c",
   "metadata": {},
   "outputs": [],
   "source": [
    "env = pyRDDLGym.make('SysAdmin_MDP_ippc2011', '1', vectorized=True)"
   ]
  },
  {
   "cell_type": "markdown",
   "id": "1dc85c50",
   "metadata": {},
   "source": [
    "Next, we will instantiate the tuning instance for the policy network (DRP). This will tune the topology of the network (number of layers and neurons), learning rate and model hyper-parameters. We specify training time per trial, number of independent runs to average per trial, number of parallel threads to 4, and number of iterations to 10, leading to a total of 40 individual trials/hyper-parameters to test: "
   ]
  },
  {
   "cell_type": "code",
   "execution_count": 4,
   "id": "a3872818",
   "metadata": {},
   "outputs": [],
   "source": [
    "tuning = JaxParameterTuningDRP(env=env, train_epochs=1000, timeout_training=30, \n",
    "                               eval_trials=1, num_workers=4, gp_iters=10)"
   ]
  },
  {
   "cell_type": "markdown",
   "id": "ebc77da9",
   "metadata": {},
   "source": [
    "Finally, we launch the tuning instance, where we specify the RNG key, the file where logs will be saved, and that we wish to save a plot of the hyper-parameters tried in a 2D space. Warning: this will take a while:"
   ]
  },
  {
   "cell_type": "code",
   "execution_count": 5,
   "id": "04666158",
   "metadata": {},
   "outputs": [
    {
     "name": "stdout",
     "output_type": "stream",
     "text": [
      "{'lr': 0.005235915143271862, 'w': 9.225358946419789, 'layers': 2, 'neurons': 64}\n"
     ]
    }
   ],
   "source": [
    "with io.capture_output():\n",
    "    best_params = tuning.tune(key=jax.random.PRNGKey(42), filename='gp', save_plot=True)\n",
    "print(best_params)"
   ]
  },
  {
   "cell_type": "markdown",
   "id": "197fd47b",
   "metadata": {},
   "source": [
    "The outputs of the bayesian optimization have now been saved in a csv file. Let's use pandas to read this file:"
   ]
  },
  {
   "cell_type": "code",
   "execution_count": 6,
   "id": "3fa8e7ba",
   "metadata": {},
   "outputs": [
    {
     "data": {
      "text/html": [
       "<div>\n",
       "<style scoped>\n",
       "    .dataframe tbody tr th:only-of-type {\n",
       "        vertical-align: middle;\n",
       "    }\n",
       "\n",
       "    .dataframe tbody tr th {\n",
       "        vertical-align: top;\n",
       "    }\n",
       "\n",
       "    .dataframe thead th {\n",
       "        text-align: right;\n",
       "    }\n",
       "</style>\n",
       "<table border=\"1\" class=\"dataframe\">\n",
       "  <thead>\n",
       "    <tr style=\"text-align: right;\">\n",
       "      <th></th>\n",
       "      <th>pid</th>\n",
       "      <th>worker</th>\n",
       "      <th>iteration</th>\n",
       "      <th>target</th>\n",
       "      <th>best_target</th>\n",
       "      <th>acq_params</th>\n",
       "      <th>lr</th>\n",
       "      <th>w</th>\n",
       "      <th>layers</th>\n",
       "      <th>neurons</th>\n",
       "    </tr>\n",
       "  </thead>\n",
       "  <tbody>\n",
       "    <tr>\n",
       "      <th>0</th>\n",
       "      <td>8856</td>\n",
       "      <td>0</td>\n",
       "      <td>0</td>\n",
       "      <td>304.0</td>\n",
       "      <td>304.0</td>\n",
       "      <td>{'random_state': RandomState(MT19937) at 0x114...</td>\n",
       "      <td>0.056494</td>\n",
       "      <td>1614.413797</td>\n",
       "      <td>1</td>\n",
       "      <td>64</td>\n",
       "    </tr>\n",
       "    <tr>\n",
       "      <th>1</th>\n",
       "      <td>21796</td>\n",
       "      <td>1</td>\n",
       "      <td>0</td>\n",
       "      <td>154.0</td>\n",
       "      <td>154.0</td>\n",
       "      <td>{'random_state': RandomState(MT19937) at 0x114...</td>\n",
       "      <td>1.500743</td>\n",
       "      <td>55.264038</td>\n",
       "      <td>1</td>\n",
       "      <td>4</td>\n",
       "    </tr>\n",
       "    <tr>\n",
       "      <th>2</th>\n",
       "      <td>12492</td>\n",
       "      <td>2</td>\n",
       "      <td>0</td>\n",
       "      <td>74.0</td>\n",
       "      <td>304.0</td>\n",
       "      <td>{'random_state': RandomState(MT19937) at 0x114...</td>\n",
       "      <td>0.000229</td>\n",
       "      <td>2499.926664</td>\n",
       "      <td>2</td>\n",
       "      <td>4</td>\n",
       "    </tr>\n",
       "    <tr>\n",
       "      <th>3</th>\n",
       "      <td>23592</td>\n",
       "      <td>3</td>\n",
       "      <td>0</td>\n",
       "      <td>203.0</td>\n",
       "      <td>203.0</td>\n",
       "      <td>{'random_state': RandomState(MT19937) at 0x114...</td>\n",
       "      <td>0.000003</td>\n",
       "      <td>1.957244</td>\n",
       "      <td>1</td>\n",
       "      <td>64</td>\n",
       "    </tr>\n",
       "  </tbody>\n",
       "</table>\n",
       "</div>"
      ],
      "text/plain": [
       "     pid  worker  iteration  target  best_target  \\\n",
       "0   8856       0          0   304.0        304.0   \n",
       "1  21796       1          0   154.0        154.0   \n",
       "2  12492       2          0    74.0        304.0   \n",
       "3  23592       3          0   203.0        203.0   \n",
       "\n",
       "                                          acq_params        lr            w  \\\n",
       "0  {'random_state': RandomState(MT19937) at 0x114...  0.056494  1614.413797   \n",
       "1  {'random_state': RandomState(MT19937) at 0x114...  1.500743    55.264038   \n",
       "2  {'random_state': RandomState(MT19937) at 0x114...  0.000229  2499.926664   \n",
       "3  {'random_state': RandomState(MT19937) at 0x114...  0.000003     1.957244   \n",
       "\n",
       "   layers  neurons  \n",
       "0       1       64  \n",
       "1       1        4  \n",
       "2       2        4  \n",
       "3       1       64  "
      ]
     },
     "execution_count": 6,
     "metadata": {},
     "output_type": "execute_result"
    }
   ],
   "source": [
    "gp_data = pd.read_csv('gp_sysadmin_mdp_sysadmin_inst_mdp__1.csv')\n",
    "gp_data.head(4)"
   ]
  },
  {
   "cell_type": "markdown",
   "id": "39b5d711",
   "metadata": {},
   "source": [
    "Let's plot the mean target value across iterations:"
   ]
  },
  {
   "cell_type": "code",
   "execution_count": 7,
   "id": "12fb78f5",
   "metadata": {},
   "outputs": [
    {
     "data": {
      "image/png": "[encoded data removed]",
      "text/plain": [
       "<Figure size 432x288 with 1 Axes>"
      ]
     },
     "metadata": {
      "needs_background": "light"
     },
     "output_type": "display_data"
    }
   ],
   "source": [
    "%matplotlib inline\n",
    "plt.plot(gp_data.groupby('iteration', as_index=False)['target'].mean()['target'])\n",
    "plt.show()"
   ]
  },
  {
   "cell_type": "markdown",
   "id": "862ba796",
   "metadata": {},
   "source": [
    "Finally, let's train a policy network with the best hyper-parameters found:"
   ]
  },
  {
   "cell_type": "code",
   "execution_count": 8,
   "id": "570147fd",
   "metadata": {},
   "outputs": [
    {
     "name": "stderr",
     "output_type": "stream",
     "text": [
      "   1227 it /     280.563110 train /     294.436707 test /     333.254700 best / 0 status: : 1227it [00:29, 42.10it/s]  \n"
     ]
    },
    {
     "data": {
      "text/plain": [
       "{'mean': 341.0, 'median': 341.0, 'min': 341.0, 'max': 341.0, 'std': 0.0}"
      ]
     },
     "execution_count": 8,
     "metadata": {},
     "output_type": "execute_result"
    }
   ],
   "source": [
    "config = f\"\"\"\n",
    "[Model]\n",
    "logic_kwargs={{ 'weight': {best_params[\"w\"]} }}\n",
    "[Optimizer]\n",
    "method='JaxDeepReactivePolicy'\n",
    "method_kwargs={{ 'topology': {[best_params[\"neurons\"]] * best_params[\"layers\"]} }}\n",
    "optimizer_kwargs={{ 'learning_rate': {best_params[\"lr\"]} }}\n",
    "[Training]\n",
    "\"\"\"\n",
    "planner_args, _, train_args = load_config_from_string(config)\n",
    "planner = JaxBackpropPlanner(rddl=env.model, **planner_args)\n",
    "agent = JaxOfflineController(planner, print_summary=False, train_seconds=30, **train_args)\n",
    "agent.evaluate(env, episodes=1)"
   ]
  }
 ],
 "metadata": {
  "kernelspec": {
   "display_name": "Python 3 (ipykernel)",
   "language": "python",
   "name": "python3"
  },
  "language_info": {
   "codemirror_mode": {
    "name": "ipython",
    "version": 3
   },
   "file_extension": ".py",
   "mimetype": "text/x-python",
   "name": "python",
   "nbconvert_exporter": "python",
   "pygments_lexer": "ipython3",
   "version": "3.9.12"
  },
  "widgets": {
   "application/vnd.jupyter.widget-state+json": {
    "state": {},
    "version_major": 2,
    "version_minor": 0
   }
  }
 },
 "nbformat": 4,
 "nbformat_minor": 5
}
